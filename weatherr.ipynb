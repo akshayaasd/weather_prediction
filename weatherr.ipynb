{
 "cells": [
  {
   "cell_type": "code",
   "execution_count": 1,
   "metadata": {},
   "outputs": [
    {
     "name": "stdout",
     "output_type": "stream",
     "text": [
      "(3192, 9)\n",
      "Index(['dt', 'LandAverageTemperature', 'LandAverageTemperatureUncertainty',\n",
      "       'LandMaxTemperature', 'LandMaxTemperatureUncertainty',\n",
      "       'LandMinTemperature', 'LandMinTemperatureUncertainty',\n",
      "       'LandAndOceanAverageTemperature',\n",
      "       'LandAndOceanAverageTemperatureUncertainty'],\n",
      "      dtype='object')\n",
      "<class 'pandas.core.frame.DataFrame'>\n",
      "RangeIndex: 3192 entries, 0 to 3191\n",
      "Data columns (total 9 columns):\n",
      " #   Column                                     Non-Null Count  Dtype  \n",
      "---  ------                                     --------------  -----  \n",
      " 0   dt                                         3192 non-null   object \n",
      " 1   LandAverageTemperature                     3180 non-null   float64\n",
      " 2   LandAverageTemperatureUncertainty          3180 non-null   float64\n",
      " 3   LandMaxTemperature                         1992 non-null   float64\n",
      " 4   LandMaxTemperatureUncertainty              1992 non-null   float64\n",
      " 5   LandMinTemperature                         1992 non-null   float64\n",
      " 6   LandMinTemperatureUncertainty              1992 non-null   float64\n",
      " 7   LandAndOceanAverageTemperature             1992 non-null   float64\n",
      " 8   LandAndOceanAverageTemperatureUncertainty  1992 non-null   float64\n",
      "dtypes: float64(8), object(1)\n",
      "memory usage: 224.6+ KB\n",
      "None\n",
      "dt                                              0\n",
      "LandAverageTemperature                         12\n",
      "LandAverageTemperatureUncertainty              12\n",
      "LandMaxTemperature                           1200\n",
      "LandMaxTemperatureUncertainty                1200\n",
      "LandMinTemperature                           1200\n",
      "LandMinTemperatureUncertainty                1200\n",
      "LandAndOceanAverageTemperature               1200\n",
      "LandAndOceanAverageTemperatureUncertainty    1200\n",
      "dtype: int64\n"
     ]
    }
   ],
   "source": [
    "import pandas as pd\n",
    "global_temp = pd.read_csv(\"GlobalTemperatures.csv\")\n",
    "print(global_temp.shape)\n",
    "print(global_temp.columns)\n",
    "print(global_temp.info())\n",
    "print(global_temp.isnull().sum())"
   ]
  },
  {
   "cell_type": "code",
   "execution_count": 2,
   "metadata": {},
   "outputs": [],
   "source": [
    "#Data Preparation\n",
    "def wrangle(df):\n",
    "    df = df.copy()\n",
    "    df = df.drop(columns=[\"LandAverageTemperatureUncertainty\", \"LandMaxTemperatureUncertainty\",\n",
    "                          \"LandMinTemperatureUncertainty\", \"LandAndOceanAverageTemperatureUncertainty\"], axis=1)"
   ]
  },
  {
   "cell_type": "code",
   "execution_count": 7,
   "metadata": {},
   "outputs": [
    {
     "name": "stdout",
     "output_type": "stream",
     "text": [
      "      LandAverageTemperature  LandMaxTemperature  LandMinTemperature  \\\n",
      "Year                                                                   \n",
      "2020                   59.90                68.0                50.0   \n",
      "2020                   72.14                77.9                66.2   \n",
      "2020                   86.00                95.0                77.0   \n",
      "\n",
      "      LandAndOceanAverageTemperature  \n",
      "Year                                  \n",
      "2020                            60.8  \n",
      "2020                            73.4  \n",
      "2020                            87.8  \n"
     ]
    }
   ],
   "source": [
    "import pandas as pd\n",
    "\n",
    "def converttemp(x):\n",
    "    x = (x * 1.8) + 32\n",
    "    return float(x)\n",
    "\n",
    "def wrangle(df):\n",
    "    # Apply temperature conversion\n",
    "    df[\"LandAverageTemperature\"] = df[\"LandAverageTemperature\"].apply(converttemp)\n",
    "    df[\"LandMaxTemperature\"] = df[\"LandMaxTemperature\"].apply(converttemp)\n",
    "    df[\"LandMinTemperature\"] = df[\"LandMinTemperature\"].apply(converttemp)\n",
    "    df[\"LandAndOceanAverageTemperature\"] = df[\"LandAndOceanAverageTemperature\"].apply(converttemp)\n",
    "    \n",
    "    # Convert 'dt' to datetime and extract month and year\n",
    "    df[\"dt\"] = pd.to_datetime(df[\"dt\"])\n",
    "    df[\"Month\"] = df[\"dt\"].dt.month\n",
    "    df[\"Year\"] = df[\"dt\"].dt.year\n",
    "    \n",
    "    # Drop the 'dt' and 'Month' columns\n",
    "    df = df.drop([\"dt\", \"Month\"], axis=1)\n",
    "    \n",
    "    # Filter rows where 'Year' is greater than or equal to 1850\n",
    "    df = df[df[\"Year\"] >= 1850]\n",
    "    \n",
    "    # Set 'Year' as the index\n",
    "    df = df.set_index(\"Year\")\n",
    "    \n",
    "    # Drop rows with missing values\n",
    "    df = df.dropna()\n",
    "    \n",
    "    return df\n",
    "\n",
    "# Example usage (make sure to replace this with your actual DataFrame)\n",
    "global_temp = pd.DataFrame({\n",
    "    \"LandAverageTemperature\": [15.5, 22.3, 30.0],\n",
    "    \"LandMaxTemperature\": [20.0, 25.5, 35.0],\n",
    "    \"LandMinTemperature\": [10.0, 19.0, 25.0],\n",
    "    \"LandAndOceanAverageTemperature\": [16.0, 23.0, 31.0],\n",
    "    \"dt\": [\"2020-01-01\", \"2020-06-01\", \"2020-12-01\"]\n",
    "})\n",
    "\n",
    "# Apply wrangling function\n",
    "global_temp = wrangle(global_temp)\n",
    "print(global_temp.head())\n"
   ]
  },
  {
   "cell_type": "code",
   "execution_count": 9,
   "metadata": {},
   "outputs": [
    {
     "ename": "ModuleNotFoundError",
     "evalue": "No module named 'seaborn'",
     "output_type": "error",
     "traceback": [
      "\u001b[1;31m---------------------------------------------------------------------------\u001b[0m",
      "\u001b[1;31mModuleNotFoundError\u001b[0m                       Traceback (most recent call last)",
      "Cell \u001b[1;32mIn[9], line 1\u001b[0m\n\u001b[1;32m----> 1\u001b[0m \u001b[38;5;28;01mimport\u001b[39;00m \u001b[38;5;21;01mseaborn\u001b[39;00m \u001b[38;5;28;01mas\u001b[39;00m \u001b[38;5;21;01msns\u001b[39;00m\n\u001b[0;32m      2\u001b[0m \u001b[38;5;28;01mimport\u001b[39;00m \u001b[38;5;21;01mmatplotlib\u001b[39;00m\u001b[38;5;21;01m.\u001b[39;00m\u001b[38;5;21;01mpyplot\u001b[39;00m \u001b[38;5;28;01mas\u001b[39;00m \u001b[38;5;21;01mplt\u001b[39;00m\n\u001b[0;32m      3\u001b[0m corrMatrix \u001b[38;5;241m=\u001b[39m global_temp\u001b[38;5;241m.\u001b[39mcorr()\n",
      "\u001b[1;31mModuleNotFoundError\u001b[0m: No module named 'seaborn'"
     ]
    }
   ],
   "source": [
    "import seaborn as sns\n",
    "import matplotlib.pyplot as plt\n",
    "corrMatrix = global_temp.corr()\n",
    "sns.heatmap(corrMatrix, annot=True)\n",
    "plt.show()"
   ]
  }
 ],
 "metadata": {
  "kernelspec": {
   "display_name": "Python 3",
   "language": "python",
   "name": "python3"
  },
  "language_info": {
   "codemirror_mode": {
    "name": "ipython",
    "version": 3
   },
   "file_extension": ".py",
   "mimetype": "text/x-python",
   "name": "python",
   "nbconvert_exporter": "python",
   "pygments_lexer": "ipython3",
   "version": "3.12.4"
  }
 },
 "nbformat": 4,
 "nbformat_minor": 2
}
